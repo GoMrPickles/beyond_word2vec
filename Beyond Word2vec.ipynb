{
 "cells": [
  {
   "cell_type": "markdown",
   "metadata": {
    "slideshow": {
     "slide_type": "slide"
    }
   },
   "source": [
    "# Beyond Word2vec\n",
    "### Recent Advances in Document Embeddings\n",
    "<hr>\n",
    "<b>Andrew Blevins</b>\n",
    "<p>Data Scientist, Metis\n"
   ]
  },
  {
   "cell_type": "markdown",
   "metadata": {
    "slideshow": {
     "slide_type": "slide"
    }
   },
   "source": [
    "### About me\n",
    "\n",
    "I teach data science at metis\n",
    "<img src=\"images/metis.png\" alt=\"Drawing\" style=\"width: 100px;\"/>\n",
    "\n",
    "\n",
    "I used to be on the NLP and skills teams at Linkedin\n",
    "<img src=\"images/linkedin.png\" alt=\"Drawing\" style=\"width: 100px;\"/>"
   ]
  },
  {
   "cell_type": "markdown",
   "metadata": {
    "slideshow": {
     "slide_type": "slide"
    }
   },
   "source": [
    "### Why document embeddings?\n",
    "\n",
    "Anytime we need to compare or represent documents\n",
    "\n",
    "* Search (compare query to document)\n",
    "* document discovery (Compare document to document)\n",
    "* have others written about this?\n",
    "* match resume or profile to job-listing\n",
    "* etc\n",
    "\n",
    "Also, they might be a step towards <b>thought-vectors</b>"
   ]
  },
  {
   "cell_type": "markdown",
   "metadata": {
    "slideshow": {
     "slide_type": "slide"
    }
   },
   "source": [
    "### Bag of words\n",
    "\n",
    "The simplest approach is just to count up how often each word appears in the document\n",
    "\n",
    "documents that have a lot of words in common are probably similar"
   ]
  },
  {
   "cell_type": "markdown",
   "metadata": {
    "slideshow": {
     "slide_type": "slide"
    }
   },
   "source": [
    "![](images/bag_of_words.png)"
   ]
  },
  {
   "cell_type": "markdown",
   "metadata": {
    "slideshow": {
     "slide_type": "slide"
    }
   },
   "source": [
    "Bag of words \n",
    "Pros\n",
    "* simple and easy"
   ]
  },
  {
   "cell_type": "markdown",
   "metadata": {
    "slideshow": {
     "slide_type": "slide"
    }
   },
   "source": [
    "Bag of words\n",
    "Cons\n",
    "* some words appear in all documents (a,the,this,etc)\n",
    "* vectors are huge, the size of our vocabulary, could be millions\n",
    "* all info contained in word order is lost\n",
    "    * `the dog jumped over the fox` \n",
    "    * `the fox jumped over the dog`"
   ]
  },
  {
   "cell_type": "markdown",
   "metadata": {
    "slideshow": {
     "slide_type": "slide"
    }
   },
   "source": [
    "### TF-IDF\n",
    "\n",
    "TF-IDF is just a way to emphasize rare words, and ignore words that appear in all documents\n",
    "\n",
    "![](https://wikimedia.org/api/rest_v1/media/math/render/svg/da4be29a89f4c67ff5a8ad0c7355df1aff67a65b)\n",
    "![](https://wikimedia.org/api/rest_v1/media/math/render/svg/ac67bc0f76b5b8e31e842d6b7d28f8949dab7937)"
   ]
  },
  {
   "cell_type": "markdown",
   "metadata": {
    "slideshow": {
     "slide_type": "slide"
    }
   },
   "source": [
    "### Dimensionality Reduction\n",
    "\n",
    "transform from many dimensions to few dimensions while losing as little information as possible"
   ]
  },
  {
   "cell_type": "markdown",
   "metadata": {
    "slideshow": {
     "slide_type": "slide"
    }
   },
   "source": [
    "### SVD\n",
    "\n",
    "![](images/SVD.png)"
   ]
  },
  {
   "cell_type": "markdown",
   "metadata": {
    "slideshow": {
     "slide_type": "slide"
    }
   },
   "source": [
    "### Word2Vec"
   ]
  },
  {
   "cell_type": "markdown",
   "metadata": {
    "slideshow": {
     "slide_type": "slide"
    }
   },
   "source": [
    "![](images/Word2vec1.png)"
   ]
  },
  {
   "cell_type": "markdown",
   "metadata": {
    "slideshow": {
     "slide_type": "slide"
    }
   },
   "source": [
    "![](images/Word2vec2.png)"
   ]
  },
  {
   "cell_type": "markdown",
   "metadata": {
    "slideshow": {
     "slide_type": "slide"
    }
   },
   "source": [
    "![](images/Word2vec3.png)"
   ]
  },
  {
   "cell_type": "markdown",
   "metadata": {
    "slideshow": {
     "slide_type": "slide"
    }
   },
   "source": [
    "### pretrained word vectors"
   ]
  },
  {
   "cell_type": "code",
   "execution_count": 1,
   "metadata": {
    "collapsed": true,
    "slideshow": {
     "slide_type": "slide"
    }
   },
   "outputs": [],
   "source": [
    "#!wget https://s3.amazonaws.com/mordecai-geo/GoogleNews-vectors-negative300.bin.gz"
   ]
  },
  {
   "cell_type": "code",
   "execution_count": 2,
   "metadata": {
    "slideshow": {
     "slide_type": "slide"
    }
   },
   "outputs": [
    {
     "name": "stderr",
     "output_type": "stream",
     "text": [
      "Using TensorFlow backend.\n"
     ]
    }
   ],
   "source": [
    "import gensim\n",
    "w2v = gensim.models.KeyedVectors.load_word2vec_format(\"~/data/GoogleNews-vectors-negative300.bin\",binary=True)"
   ]
  },
  {
   "cell_type": "markdown",
   "metadata": {
    "slideshow": {
     "slide_type": "slide"
    }
   },
   "source": [
    "### what is in a word vector"
   ]
  },
  {
   "cell_type": "markdown",
   "metadata": {
    "slideshow": {
     "slide_type": "slide"
    }
   },
   "source": [
    "![](images/firth.jpg)"
   ]
  },
  {
   "cell_type": "code",
   "execution_count": 3,
   "metadata": {
    "slideshow": {
     "slide_type": "slide"
    }
   },
   "outputs": [
    {
     "name": "stderr",
     "output_type": "stream",
     "text": [
      "2017-10-25 11:14:11,957 : INFO : loading projection weights from ~/data/GoogleNews-vectors-negative300.bin\n",
      "2017-10-25 11:14:49,871 : INFO : loaded (3000000, 300) matrix from ~/data/GoogleNews-vectors-negative300.bin\n"
     ]
    }
   ],
   "source": [
    "import nltk\n",
    "import gensim\n",
    "from gensim.models import word2vec\n",
    "import logging\n",
    "logging.basicConfig(format='%(asctime)s : %(levelname)s : %(message)s', level=logging.INFO)\n",
    "\n",
    "w2v = gensim.models.KeyedVectors.load_word2vec_format(\"~/data/GoogleNews-vectors-negative300.bin\",binary=True)"
   ]
  },
  {
   "cell_type": "code",
   "execution_count": 4,
   "metadata": {
    "slideshow": {
     "slide_type": "slide"
    }
   },
   "outputs": [
    {
     "name": "stderr",
     "output_type": "stream",
     "text": [
      "2017-10-25 11:15:01,709 : INFO : precomputing L2-norms of word weight vectors\n"
     ]
    },
    {
     "data": {
      "text/plain": [
       "[('queen', 0.7118192911148071),\n",
       " ('monarch', 0.6189674139022827),\n",
       " ('princess', 0.5902431607246399),\n",
       " ('crown_prince', 0.5499460697174072),\n",
       " ('prince', 0.5377321243286133),\n",
       " ('kings', 0.5236844420433044),\n",
       " ('Queen_Consort', 0.5235945582389832),\n",
       " ('queens', 0.5181134343147278),\n",
       " ('sultan', 0.5098593235015869),\n",
       " ('monarchy', 0.5087411999702454)]"
      ]
     },
     "execution_count": 4,
     "metadata": {},
     "output_type": "execute_result"
    }
   ],
   "source": [
    "w2v.most_similar(positive=['woman', 'king'], negative=['man'], topn=10)"
   ]
  },
  {
   "cell_type": "code",
   "execution_count": 5,
   "metadata": {
    "slideshow": {
     "slide_type": "slide"
    }
   },
   "outputs": [
    {
     "data": {
      "image/png": "[encoded data removed]",
      "text/plain": [
       "<matplotlib.figure.Figure at 0x1f416b7b8>"
      ]
     },
     "metadata": {},
     "output_type": "display_data"
    }
   ],
   "source": [
    "import matplotlib.pyplot as plt\n",
    "%matplotlib inline\n",
    "\n",
    "\n",
    "import pandas as pd\n",
    "from sklearn.decomposition import PCA\n",
    "\n",
    "\n",
    "words= ['king','queen','prince','princess', 'uncle', 'aunt']\n",
    "\n",
    "def plot_words(words):\n",
    "    word_vecs = [w2v[word] for word in words]\n",
    "    pca = PCA(n_components=2)\n",
    "\n",
    "    columns = [\"Component1\",\"Component2\"]\n",
    "    df = pd.DataFrame(pca.fit_transform(word_vecs), columns=columns, index=words)\n",
    "    def annotate_df(row):  \n",
    "        ax.annotate(row.name, list(row.values),\n",
    "                    xytext=(10,-5), \n",
    "                    textcoords='offset points',\n",
    "                    size=18, \n",
    "                    color='darkslategrey')\n",
    "    with plt.xkcd():\n",
    "        ax = df.plot(kind=\"scatter\",x='Component1', y='Component2',)\n",
    "        _ = df.apply(annotate_df, axis=1)\n",
    "\n",
    "plot_words(words)"
   ]
  },
  {
   "cell_type": "code",
   "execution_count": 6,
   "metadata": {
    "slideshow": {
     "slide_type": "slide"
    }
   },
   "outputs": [
    {
     "data": {
      "text/plain": [
       "[('kitten', 0.7634989619255066),\n",
       " ('puppies', 0.7110899686813354),\n",
       " ('pup', 0.6929495334625244),\n",
       " ('kittens', 0.6888390183448792),\n",
       " ('cats', 0.6796488761901855),\n",
       " ('kitties', 0.6261522769927979),\n",
       " ('tabby', 0.6248785257339478),\n",
       " ('feline', 0.6239445209503174),\n",
       " ('beagle', 0.5984722375869751),\n",
       " ('tortoiseshell_cat', 0.5960986614227295)]"
      ]
     },
     "execution_count": 6,
     "metadata": {},
     "output_type": "execute_result"
    }
   ],
   "source": [
    "w2v.most_similar(positive=['puppy', 'cat'], negative=['dog'], topn=10)"
   ]
  },
  {
   "cell_type": "code",
   "execution_count": 7,
   "metadata": {
    "slideshow": {
     "slide_type": "slide"
    }
   },
   "outputs": [
    {
     "data": {
      "image/png": "[encoded data removed]",
      "text/plain": [
       "<matplotlib.figure.Figure at 0x105907588>"
      ]
     },
     "metadata": {},
     "output_type": "display_data"
    }
   ],
   "source": [
    "words= ['puppy', 'cat', 'dog','kitten']\n",
    "plot_words(words)"
   ]
  },
  {
   "cell_type": "code",
   "execution_count": 8,
   "metadata": {
    "slideshow": {
     "slide_type": "slide"
    }
   },
   "outputs": [
    {
     "data": {
      "text/plain": [
       "[('puppies', 0.8368768692016602),\n",
       " ('pups', 0.6918993592262268),\n",
       " ('dogs', 0.6844613552093506),\n",
       " ('pup', 0.6803555488586426),\n",
       " ('cats', 0.6592355370521545),\n",
       " ('Puppies', 0.6265859007835388),\n",
       " ('pets', 0.6218154430389404),\n",
       " ('dog', 0.6148011684417725),\n",
       " ('golden_retriever_puppies', 0.604468584060669),\n",
       " ('pit_bull_puppies', 0.5948553085327148)]"
      ]
     },
     "execution_count": 8,
     "metadata": {},
     "output_type": "execute_result"
    }
   ],
   "source": [
    "w2v.most_similar(positive=['puppy', 'kittens'], negative=['kitten'], topn=10)"
   ]
  },
  {
   "cell_type": "code",
   "execution_count": 9,
   "metadata": {
    "slideshow": {
     "slide_type": "slide"
    }
   },
   "outputs": [
    {
     "data": {
      "image/png": "[encoded data removed]",
      "text/plain": [
       "<matplotlib.figure.Figure at 0x1f45bd630>"
      ]
     },
     "metadata": {},
     "output_type": "display_data"
    }
   ],
   "source": [
    "words= ['puppy', 'kittens', 'puppies','kitten']\n",
    "plot_words(words)"
   ]
  },
  {
   "cell_type": "code",
   "execution_count": 10,
   "metadata": {
    "slideshow": {
     "slide_type": "slide"
    }
   },
   "outputs": [
    {
     "data": {
      "text/plain": [
       "[('puppies', 0.6691356897354126),\n",
       " ('kitten', 0.6192759275436401),\n",
       " ('pup', 0.6143131256103516),\n",
       " ('dog', 0.6043939590454102),\n",
       " ('dogs', 0.5791490077972412),\n",
       " ('kittens', 0.5786461234092712),\n",
       " ('Puppy', 0.5712342858314514),\n",
       " ('golden_retriever', 0.5665362477302551),\n",
       " ('Sheltie', 0.5649446249008179),\n",
       " ('goldendoodle', 0.5552847385406494)]"
      ]
     },
     "execution_count": 10,
     "metadata": {},
     "output_type": "execute_result"
    }
   ],
   "source": [
    "w2v.most_similar(positive=['puppy', 'forks'], negative=['fork'], topn=10)"
   ]
  },
  {
   "cell_type": "code",
   "execution_count": 11,
   "metadata": {
    "slideshow": {
     "slide_type": "slide"
    }
   },
   "outputs": [
    {
     "data": {
      "image/png": "[encoded data removed]",
      "text/plain": [
       "<matplotlib.figure.Figure at 0x1f4b0db70>"
      ]
     },
     "metadata": {},
     "output_type": "display_data"
    }
   ],
   "source": [
    "words= ['puppy', 'forks', 'puppies','fork']\n",
    "plot_words(words)"
   ]
  },
  {
   "cell_type": "code",
   "execution_count": 12,
   "metadata": {
    "slideshow": {
     "slide_type": "slide"
    }
   },
   "outputs": [
    {
     "data": {
      "text/plain": [
       "[('puppies', 0.6441149711608887),\n",
       " ('kitten', 0.6267380714416504),\n",
       " ('pup', 0.6173527240753174),\n",
       " ('dog', 0.6126686334609985),\n",
       " ('kittens', 0.5880669951438904),\n",
       " ('pooch', 0.5754020810127258),\n",
       " ('dogs', 0.5595042705535889),\n",
       " ('beagle', 0.5496172904968262),\n",
       " ('bassett_hound', 0.5457115173339844),\n",
       " ('cat', 0.5444645881652832)]"
      ]
     },
     "execution_count": 12,
     "metadata": {},
     "output_type": "execute_result"
    }
   ],
   "source": [
    "w2v.most_similar(positive=['puppy', 'feet'], negative=['foot'], topn=10)"
   ]
  },
  {
   "cell_type": "code",
   "execution_count": 13,
   "metadata": {
    "slideshow": {
     "slide_type": "slide"
    }
   },
   "outputs": [
    {
     "data": {
      "image/png": "[encoded data removed]",
      "text/plain": [
       "<matplotlib.figure.Figure at 0x1f4ccb198>"
      ]
     },
     "metadata": {},
     "output_type": "display_data"
    }
   ],
   "source": [
    "words= ['puppy', 'feet', 'puppies','foot']\n",
    "plot_words(words)"
   ]
  },
  {
   "cell_type": "code",
   "execution_count": 14,
   "metadata": {
    "slideshow": {
     "slide_type": "slide"
    }
   },
   "outputs": [
    {
     "data": {
      "image/png": "[encoded data removed]",
      "text/plain": [
       "<matplotlib.figure.Figure at 0x1f4db5898>"
      ]
     },
     "metadata": {},
     "output_type": "display_data"
    }
   ],
   "source": [
    "words= ['drink', 'feed', 'eat', 'drank','fed','ate']\n",
    "plot_words(words)"
   ]
  },
  {
   "cell_type": "code",
   "execution_count": 15,
   "metadata": {
    "collapsed": true,
    "slideshow": {
     "slide_type": "slide"
    }
   },
   "outputs": [],
   "source": [
    "import sense2vec\n",
    "\n",
    "model = sense2vec.load()"
   ]
  },
  {
   "cell_type": "code",
   "execution_count": 16,
   "metadata": {
    "slideshow": {
     "slide_type": "slide"
    }
   },
   "outputs": [
    {
     "data": {
      "text/plain": [
       "(['Hogwarts|ORG',\n",
       "  'Hogwarts|GPE',\n",
       "  'Hogwarts|PERSON',\n",
       "  'Hogwarts|NORP',\n",
       "  'Hogwarts|NOUN',\n",
       "  'McGonagall|PERSON',\n",
       "  'hogwarts|NOUN',\n",
       "  'wizarding_world|NOUN',\n",
       "  'Dumbledore|GPE',\n",
       "  'the_Ministry_of_Magic|ORG'],\n",
       " <MemoryView of 'ndarray' at 0x1f5195048>)"
      ]
     },
     "execution_count": 16,
     "metadata": {},
     "output_type": "execute_result"
    }
   ],
   "source": [
    "freq, query_vector = model[\"Hogwarts|ORG\"]\n",
    "model.most_similar(query_vector, n=10)"
   ]
  },
  {
   "cell_type": "code",
   "execution_count": 17,
   "metadata": {
    "slideshow": {
     "slide_type": "slide"
    }
   },
   "outputs": [
    {
     "data": {
      "text/plain": [
       "(['duck|VERB',\n",
       "  'crouch|VERB',\n",
       "  'ducking|VERB',\n",
       "  'sprint|VERB',\n",
       "  'scoot|VERB',\n",
       "  'dart|VERB',\n",
       "  'jump|VERB',\n",
       "  'peek|VERB',\n",
       "  'ducked|VERB',\n",
       "  'bonk|VERB'],\n",
       " <MemoryView of 'ndarray' at 0x1f51951f0>)"
      ]
     },
     "execution_count": 17,
     "metadata": {},
     "output_type": "execute_result"
    }
   ],
   "source": [
    "freq, query_vector = model[\"duck|VERB\"]\n",
    "model.most_similar(query_vector, n=10)"
   ]
  },
  {
   "cell_type": "markdown",
   "metadata": {
    "slideshow": {
     "slide_type": "slide"
    }
   },
   "source": [
    "### word2vec poetry\n",
    "\n",
    "Alpha ([Alliterated Genisis by llamas and my stegosaurus](http://llamasandmystegosaurus.blogspot.com/2017/05/alpha.html) built with word2vec)\n",
    "\n",
    "```\n",
    "1. An advent: ancient archangels architect abstract astronomy and arid asteroids.  \n",
    "2. All asteroids are amorphous and absent; And all asleep across aquatic anarchy. And astral angels advanced across area. \n",
    "3. And Almighty asked,\" Appear.\" And all appeared aglow. \n",
    "4. And Almighty approved. Aura and absence: an antagonistic arithmetic. \n",
    "\n",
    "```"
   ]
  },
  {
   "cell_type": "markdown",
   "metadata": {
    "slideshow": {
     "slide_type": "slide"
    }
   },
   "source": [
    "* islands: aquatic archipelagos\n",
    "* cowboy: colorado desperado\n",
    "* Donald_Trump: stray toupee"
   ]
  },
  {
   "cell_type": "markdown",
   "metadata": {
    "slideshow": {
     "slide_type": "slide"
    }
   },
   "source": [
    "### Word2vec improvements\n",
    "\n",
    "* word sense\n",
    "    * `duck under the door frame` vs `the duck swims around the pond`\n",
    "* as guassian clouds\n",
    "    * word2vec as a sort of variation autoencoder\n",
    "* sub-word information\n",
    "    * in the word `antidisestablishmentarianism` the ngrams:\n",
    "    * **anti**,**dis**,**ment**,**rian** and **ism** contain meaning, even if you have not seen the word before\n",
    "* context vectors\n",
    "    * helps deal with wordsense"
   ]
  },
  {
   "cell_type": "markdown",
   "metadata": {
    "slideshow": {
     "slide_type": "slide"
    }
   },
   "source": [
    "### evaluation considerations\n",
    "\n",
    "intrinsic vs extrinsic evaluation (these are rarely correlated)\n",
    "\n",
    "intrinsic\n",
    "* analogy tests\n",
    "* word similarity like semlex-999 or wordnet\n",
    "\n",
    "extrinsic\n",
    "* how good are these vectors for helping solve your specific use case"
   ]
  },
  {
   "cell_type": "code",
   "execution_count": 18,
   "metadata": {
    "slideshow": {
     "slide_type": "slide"
    }
   },
   "outputs": [
    {
     "name": "stdout",
     "output_type": "stream",
     "text": [
      ": capital-common-countries\r\n",
      "Athens Greece Baghdad Iraq\r\n",
      "Athens Greece Bangkok Thailand\r\n",
      "Athens Greece Beijing China\r\n",
      "Athens Greece Berlin Germany\r\n",
      "Athens Greece Bern Switzerland\r\n",
      "Athens Greece Cairo Egypt\r\n",
      "Athens Greece Canberra Australia\r\n",
      "Athens Greece Hanoi Vietnam\r\n",
      "Athens Greece Havana Cuba\r\n"
     ]
    }
   ],
   "source": [
    "!head 'questions-words.txt'"
   ]
  },
  {
   "cell_type": "code",
   "execution_count": null,
   "metadata": {
    "slideshow": {
     "slide_type": "slide"
    }
   },
   "outputs": [],
   "source": [
    "# Analogy Test\n",
    "w2v.accuracy(\"questions-words.txt\")"
   ]
  },
  {
   "cell_type": "markdown",
   "metadata": {
    "slideshow": {
     "slide_type": "fragment"
    }
   },
   "source": [
    "77% is pretty good"
   ]
  },
  {
   "cell_type": "markdown",
   "metadata": {
    "slideshow": {
     "slide_type": "slide"
    }
   },
   "source": [
    "<b>at the end of the day, extrinsic evaluation is what matters\n",
    "\n",
    "# All that matters is how it solves your problem"
   ]
  },
  {
   "cell_type": "markdown",
   "metadata": {
    "slideshow": {
     "slide_type": "slide"
    }
   },
   "source": [
    "### evaluation datasets\n",
    "\n",
    "\n",
    "Ways of evaluating:\n",
    "1. SNLI\n",
    "2. paraphrase database\n",
    "3. DIY\n",
    "4. Webster's Dictionary?"
   ]
  },
  {
   "cell_type": "markdown",
   "metadata": {
    "slideshow": {
     "slide_type": "slide"
    }
   },
   "source": [
    "## Document embedding techniques"
   ]
  },
  {
   "cell_type": "markdown",
   "metadata": {
    "slideshow": {
     "slide_type": "skip"
    }
   },
   "source": [
    "### bag-of-words baseline"
   ]
  },
  {
   "cell_type": "markdown",
   "metadata": {
    "slideshow": {
     "slide_type": "skip"
    }
   },
   "source": [
    "### LSA"
   ]
  },
  {
   "cell_type": "markdown",
   "metadata": {
    "slideshow": {
     "slide_type": "slide"
    }
   },
   "source": [
    "### Summing wordvectors\n",
    "#### AKA Centroids"
   ]
  },
  {
   "cell_type": "markdown",
   "metadata": {
    "slideshow": {
     "slide_type": "slide"
    }
   },
   "source": [
    "![](images/wordvectors.png)"
   ]
  },
  {
   "cell_type": "markdown",
   "metadata": {
    "slideshow": {
     "slide_type": "slide"
    }
   },
   "source": [
    "![](images/centroid.png)"
   ]
  },
  {
   "cell_type": "markdown",
   "metadata": {
    "slideshow": {
     "slide_type": "slide"
    }
   },
   "source": [
    "![](images/centroid2.png)"
   ]
  },
  {
   "cell_type": "markdown",
   "metadata": {
    "slideshow": {
     "slide_type": "slide"
    }
   },
   "source": [
    "![](images/centroid3.png)"
   ]
  },
  {
   "cell_type": "markdown",
   "metadata": {
    "slideshow": {
     "slide_type": "slide"
    }
   },
   "source": [
    "![](images/centroid4.png)"
   ]
  },
  {
   "cell_type": "markdown",
   "metadata": {
    "slideshow": {
     "slide_type": "slide"
    }
   },
   "source": [
    "![](images/centroid5.png)"
   ]
  },
  {
   "cell_type": "markdown",
   "metadata": {
    "slideshow": {
     "slide_type": "slide"
    }
   },
   "source": [
    "![](images/centroid6.png)"
   ]
  },
  {
   "cell_type": "markdown",
   "metadata": {
    "slideshow": {
     "slide_type": "slide"
    }
   },
   "source": [
    "![](images/centroid7.png)"
   ]
  },
  {
   "cell_type": "markdown",
   "metadata": {
    "slideshow": {
     "slide_type": "slide"
    }
   },
   "source": [
    "![](images/centroid8.png)"
   ]
  },
  {
   "cell_type": "markdown",
   "metadata": {
    "slideshow": {
     "slide_type": "slide"
    }
   },
   "source": [
    "![](images/centroid9.png)"
   ]
  },
  {
   "cell_type": "markdown",
   "metadata": {
    "slideshow": {
     "slide_type": "slide"
    }
   },
   "source": [
    "![](images/centroid10.png)"
   ]
  },
  {
   "cell_type": "markdown",
   "metadata": {
    "slideshow": {
     "slide_type": "slide"
    }
   },
   "source": [
    "![](images/centroid11.png)"
   ]
  },
  {
   "cell_type": "markdown",
   "metadata": {
    "slideshow": {
     "slide_type": "slide"
    }
   },
   "source": [
    "### Weighting\n",
    "\n",
    "This time we use TF-IDF weights to generate a document vector"
   ]
  },
  {
   "cell_type": "markdown",
   "metadata": {
    "slideshow": {
     "slide_type": "slide"
    }
   },
   "source": [
    "![](images/tfidf.png)"
   ]
  },
  {
   "cell_type": "markdown",
   "metadata": {
    "slideshow": {
     "slide_type": "slide"
    }
   },
   "source": [
    "![](images/tfidf1.png)"
   ]
  },
  {
   "cell_type": "markdown",
   "metadata": {
    "slideshow": {
     "slide_type": "slide"
    }
   },
   "source": [
    "![](images/tfidf2.png)"
   ]
  },
  {
   "cell_type": "markdown",
   "metadata": {
    "slideshow": {
     "slide_type": "slide"
    }
   },
   "source": [
    "![](images/tfidf3.png)"
   ]
  },
  {
   "cell_type": "markdown",
   "metadata": {
    "slideshow": {
     "slide_type": "slide"
    }
   },
   "source": [
    "![](images/tfidf4.png)"
   ]
  },
  {
   "cell_type": "markdown",
   "metadata": {
    "slideshow": {
     "slide_type": "slide"
    }
   },
   "source": [
    "![](images/tfidf5.png)"
   ]
  },
  {
   "cell_type": "markdown",
   "metadata": {
    "slideshow": {
     "slide_type": "slide"
    }
   },
   "source": [
    "![](images/tfidf6.png)"
   ]
  },
  {
   "cell_type": "markdown",
   "metadata": {
    "slideshow": {
     "slide_type": "slide"
    }
   },
   "source": [
    "![](images/tfidf7.png)"
   ]
  },
  {
   "cell_type": "markdown",
   "metadata": {
    "slideshow": {
     "slide_type": "slide"
    }
   },
   "source": [
    "![](images/tfidf8.png)"
   ]
  },
  {
   "cell_type": "markdown",
   "metadata": {
    "slideshow": {
     "slide_type": "slide"
    }
   },
   "source": [
    "![](images/tfidf9.png)"
   ]
  },
  {
   "cell_type": "markdown",
   "metadata": {
    "slideshow": {
     "slide_type": "slide"
    }
   },
   "source": [
    "![](images/tfidf10.png)"
   ]
  },
  {
   "cell_type": "markdown",
   "metadata": {
    "slideshow": {
     "slide_type": "slide"
    }
   },
   "source": [
    "### Clustering"
   ]
  },
  {
   "cell_type": "markdown",
   "metadata": {
    "slideshow": {
     "slide_type": "slide"
    }
   },
   "source": [
    "group similar words together with some kind of clustering technique such as kmeans or a chinese restaraunt process"
   ]
  },
  {
   "cell_type": "markdown",
   "metadata": {
    "slideshow": {
     "slide_type": "slide"
    }
   },
   "source": [
    "![](images/cluster.png)"
   ]
  },
  {
   "cell_type": "markdown",
   "metadata": {
    "slideshow": {
     "slide_type": "slide"
    }
   },
   "source": [
    "![](images/cluster1.png)"
   ]
  },
  {
   "cell_type": "markdown",
   "metadata": {
    "slideshow": {
     "slide_type": "slide"
    }
   },
   "source": [
    "![](images/cluster2.png)"
   ]
  },
  {
   "cell_type": "markdown",
   "metadata": {
    "slideshow": {
     "slide_type": "slide"
    }
   },
   "source": [
    "![](images/cluster3.png)"
   ]
  },
  {
   "cell_type": "markdown",
   "metadata": {
    "slideshow": {
     "slide_type": "slide"
    }
   },
   "source": [
    "![](images/cluster4.png)"
   ]
  },
  {
   "cell_type": "markdown",
   "metadata": {
    "slideshow": {
     "slide_type": "slide"
    }
   },
   "source": [
    "### Parse tree representations"
   ]
  },
  {
   "cell_type": "markdown",
   "metadata": {
    "slideshow": {
     "slide_type": "slide"
    }
   },
   "source": [
    "![](images/parse.png)"
   ]
  },
  {
   "cell_type": "markdown",
   "metadata": {
    "slideshow": {
     "slide_type": "slide"
    }
   },
   "source": [
    "### Gensim 'doc2vec'"
   ]
  },
  {
   "cell_type": "markdown",
   "metadata": {
    "slideshow": {
     "slide_type": "subslide"
    }
   },
   "source": [
    "![](images/doc2vec.png)"
   ]
  },
  {
   "cell_type": "code",
   "execution_count": 19,
   "metadata": {
    "slideshow": {
     "slide_type": "slide"
    }
   },
   "outputs": [
    {
     "ename": "SyntaxError",
     "evalue": "invalid syntax (<ipython-input-19-cd218f2cd338>, line 1)",
     "output_type": "error",
     "traceback": [
      "\u001b[0;36m  File \u001b[0;32m\"<ipython-input-19-cd218f2cd338>\"\u001b[0;36m, line \u001b[0;32m1\u001b[0m\n\u001b[0;31m    from gensim import\u001b[0m\n\u001b[0m                       ^\u001b[0m\n\u001b[0;31mSyntaxError\u001b[0m\u001b[0;31m:\u001b[0m invalid syntax\n"
     ]
    }
   ],
   "source": [
    "from gensim import \n",
    "\n",
    "class LabeledLineSentence(object):\n",
    "    def __init__(self, filename):\n",
    "        self.filename = filename\n",
    "    def __iter__(self):\n",
    "        for uid, line in enumerate(open(filename)):\n",
    "            yield LabeledSentence(words=line.split(), labels=['SENT_%s' % uid])\n",
    "\n",
    "model = Doc2Vec(LabeledLineSentence(sentences))"
   ]
  },
  {
   "cell_type": "markdown",
   "metadata": {
    "slideshow": {
     "slide_type": "slide"
    }
   },
   "source": [
    "### RNNs and LSTMs\n",
    "\n",
    "Recurrent neural networks are able to operate on sequence of items.\n",
    "\n",
    "RNNs are able to do this because each neuron can remember its activation for the previous word\n",
    "LSTMs have selective memory, allowing for longer retention of important information\n",
    "\n",
    "![](images/rnn.png)"
   ]
  },
  {
   "cell_type": "markdown",
   "metadata": {
    "slideshow": {
     "slide_type": "slide"
    }
   },
   "source": [
    "![](images/continuous.png)"
   ]
  },
  {
   "cell_type": "markdown",
   "metadata": {
    "slideshow": {
     "slide_type": "slide"
    }
   },
   "source": [
    "### Fasttext 'sent2vec'\n",
    "\n",
    "work by [Martin Jaggi](https://arxiv.org/pdf/1703.02507.pdf)\n",
    "\n",
    "\n",
    "[soon to be added to Gensim](https://github.com/RaRe-Technologies/gensim/pull/1458)\n",
    "with pretrained models available\n",
    "\n",
    "very similar to word2vec, but represents an ngram of the sentence from ngrams inside the sentence"
   ]
  },
  {
   "cell_type": "markdown",
   "metadata": {
    "slideshow": {
     "slide_type": "slide"
    }
   },
   "source": [
    "![](images/sent2vec.png)"
   ]
  },
  {
   "cell_type": "markdown",
   "metadata": {},
   "source": [
    "![](images/jaggi.png)"
   ]
  },
  {
   "cell_type": "markdown",
   "metadata": {
    "slideshow": {
     "slide_type": "slide"
    }
   },
   "source": [
    "# Doc2Vec Evaluation\n",
    "\n",
    "\n",
    "#### Ways of evaluating:\n",
    "1. [SNLI](https://nlp.stanford.edu/projects/snli/)\n",
    "2. [Simlex-999](https://www.cl.cam.ac.uk/~fh295/simlex.html)\n",
    "3. [paraphrase database](http://www.cis.upenn.edu/~ccb/ppdb/)\n",
    "4. DIY\n",
    "\n",
    "#### Document Embedding methods\n",
    "1. bag of words\n",
    "2. Summing Vectors\n",
    "3. Clustering Vectors\n",
    "4. Gensim Doc2vec\n",
    "5. fasttext sent2vec\n",
    "6. other options\n",
    "\n",
    "#### word vectors\n",
    "1. google news  https://code.google.com/archive/p/word2vec/  \n",
    "2. glove  http://nlp.stanford.edu/projects/glove/\n",
    "3. sense2vec https://github.com/explosion/sense2vec\n",
    "4. fastText  https://github.com/facebookresearch/fastText/blob/master/pretrained-vectors.md\n",
    "5. metaembeddings http://cistern.cis.lmu.de/meta-emb/\n"
   ]
  },
  {
   "cell_type": "markdown",
   "metadata": {
    "slideshow": {
     "slide_type": "slide"
    }
   },
   "source": [
    "### SNLI\n",
    "\n",
    "SNLI is a dataset from stanford that contains a number of possible captions for images, and crowdsources opinions over whether the captions could be describing the same image."
   ]
  },
  {
   "cell_type": "code",
   "execution_count": 23,
   "metadata": {
    "slideshow": {
     "slide_type": "slide"
    }
   },
   "outputs": [
    {
     "data": {
      "text/html": [
       "<div>\n",
       "<style>\n",
       "    .dataframe thead tr:only-child th {\n",
       "        text-align: right;\n",
       "    }\n",
       "\n",
       "    .dataframe thead th {\n",
       "        text-align: left;\n",
       "    }\n",
       "\n",
       "    .dataframe tbody tr th {\n",
       "        vertical-align: top;\n",
       "    }\n",
       "</style>\n",
       "<table border=\"1\" class=\"dataframe\">\n",
       "  <thead>\n",
       "    <tr style=\"text-align: right;\">\n",
       "      <th></th>\n",
       "      <th>gold_label</th>\n",
       "      <th>sentence1</th>\n",
       "      <th>sentence2</th>\n",
       "    </tr>\n",
       "  </thead>\n",
       "  <tbody>\n",
       "    <tr>\n",
       "      <th>0</th>\n",
       "      <td>neutral</td>\n",
       "      <td>This church choir sings to the masses as they ...</td>\n",
       "      <td>The church has cracks in the ceiling.</td>\n",
       "    </tr>\n",
       "    <tr>\n",
       "      <th>1</th>\n",
       "      <td>entailment</td>\n",
       "      <td>This church choir sings to the masses as they ...</td>\n",
       "      <td>The church is filled with song.</td>\n",
       "    </tr>\n",
       "    <tr>\n",
       "      <th>2</th>\n",
       "      <td>contradiction</td>\n",
       "      <td>This church choir sings to the masses as they ...</td>\n",
       "      <td>A choir singing at a baseball game.</td>\n",
       "    </tr>\n",
       "    <tr>\n",
       "      <th>3</th>\n",
       "      <td>neutral</td>\n",
       "      <td>A woman with a green headscarf, blue shirt and...</td>\n",
       "      <td>The woman is young.</td>\n",
       "    </tr>\n",
       "    <tr>\n",
       "      <th>4</th>\n",
       "      <td>entailment</td>\n",
       "      <td>A woman with a green headscarf, blue shirt and...</td>\n",
       "      <td>The woman is very happy.</td>\n",
       "    </tr>\n",
       "  </tbody>\n",
       "</table>\n",
       "</div>"
      ],
      "text/plain": [
       "      gold_label                                          sentence1  \\\n",
       "0        neutral  This church choir sings to the masses as they ...   \n",
       "1     entailment  This church choir sings to the masses as they ...   \n",
       "2  contradiction  This church choir sings to the masses as they ...   \n",
       "3        neutral  A woman with a green headscarf, blue shirt and...   \n",
       "4     entailment  A woman with a green headscarf, blue shirt and...   \n",
       "\n",
       "                               sentence2  \n",
       "0  The church has cracks in the ceiling.  \n",
       "1        The church is filled with song.  \n",
       "2    A choir singing at a baseball game.  \n",
       "3                    The woman is young.  \n",
       "4               The woman is very happy.  "
      ]
     },
     "execution_count": 23,
     "metadata": {},
     "output_type": "execute_result"
    }
   ],
   "source": [
    "import pandas as pd\n",
    "\n",
    "snli = pd.read_csv(\"/Users/ablevins/Downloads/snli_1.0/snli_1.0_test.txt\", sep='\\t')\n",
    "snli[['gold_label','sentence1','sentence2']].head()"
   ]
  },
  {
   "cell_type": "markdown",
   "metadata": {
    "slideshow": {
     "slide_type": "slide"
    }
   },
   "source": [
    "### paraphrase database\n"
   ]
  },
  {
   "cell_type": "code",
   "execution_count": 24,
   "metadata": {
    "slideshow": {
     "slide_type": "slide"
    }
   },
   "outputs": [
    {
     "data": {
      "text/html": [
       "<div>\n",
       "<style>\n",
       "    .dataframe thead tr:only-child th {\n",
       "        text-align: right;\n",
       "    }\n",
       "\n",
       "    .dataframe thead th {\n",
       "        text-align: left;\n",
       "    }\n",
       "\n",
       "    .dataframe tbody tr th {\n",
       "        vertical-align: top;\n",
       "    }\n",
       "</style>\n",
       "<table border=\"1\" class=\"dataframe\">\n",
       "  <thead>\n",
       "    <tr style=\"text-align: right;\">\n",
       "      <th></th>\n",
       "      <th>phrase1</th>\n",
       "      <th>phrase2</th>\n",
       "    </tr>\n",
       "  </thead>\n",
       "  <tbody>\n",
       "    <tr>\n",
       "      <th>0</th>\n",
       "      <td>china-u.s. and</td>\n",
       "      <td>sino-us and</td>\n",
       "    </tr>\n",
       "    <tr>\n",
       "      <th>1</th>\n",
       "      <td>fast , easy and</td>\n",
       "      <td>quick , easy and</td>\n",
       "    </tr>\n",
       "    <tr>\n",
       "      <th>2</th>\n",
       "      <td>quick , easy and</td>\n",
       "      <td>fast , easy and</td>\n",
       "    </tr>\n",
       "    <tr>\n",
       "      <th>3</th>\n",
       "      <td>sino-us and</td>\n",
       "      <td>china-u.s. and</td>\n",
       "    </tr>\n",
       "    <tr>\n",
       "      <th>4</th>\n",
       "      <td>as holy as</td>\n",
       "      <td>as sacred as</td>\n",
       "    </tr>\n",
       "  </tbody>\n",
       "</table>\n",
       "</div>"
      ],
      "text/plain": [
       "              phrase1             phrase2\n",
       "0     china-u.s. and         sino-us and \n",
       "1    fast , easy and    quick , easy and \n",
       "2   quick , easy and     fast , easy and \n",
       "3        sino-us and      china-u.s. and \n",
       "4         as holy as        as sacred as "
      ]
     },
     "execution_count": 24,
     "metadata": {},
     "output_type": "execute_result"
    }
   ],
   "source": [
    "columns = ['pos','phrase1','phrase2','rule','rule2']\n",
    "ppdb = pd.read_csv(\"/Users/ablevins/Downloads/ppdb-1.0-s-phrasal\", sep='\\|\\|\\|', names=columns,engine='python')\n",
    "ppdb[['phrase1','phrase2']].head()"
   ]
  },
  {
   "cell_type": "code",
   "execution_count": null,
   "metadata": {
    "collapsed": true
   },
   "outputs": [],
   "source": []
  }
 ],
 "metadata": {
  "celltoolbar": "Slideshow",
  "kernelspec": {
   "display_name": "Python 3",
   "language": "python",
   "name": "python3"
  },
  "language_info": {
   "codemirror_mode": {
    "name": "ipython",
    "version": 3
   },
   "file_extension": ".py",
   "mimetype": "text/x-python",
   "name": "python",
   "nbconvert_exporter": "python",
   "pygments_lexer": "ipython3",
   "version": "3.6.1"
  },
  "livereveal": {
   "transition": "none"
  }
 },
 "nbformat": 4,
 "nbformat_minor": 2
}
