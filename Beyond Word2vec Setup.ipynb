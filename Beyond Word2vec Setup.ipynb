{
 "cells": [
  {
   "cell_type": "markdown",
   "metadata": {},
   "source": [
    "# Beyond Word2vec: Setup"
   ]
  },
  {
   "cell_type": "markdown",
   "metadata": {},
   "source": [
    "### 1) Python Installs: \n",
    "Please note, that we'll need several packages installed on your laptop. \n",
    "If you haven't performed installs yet, here are some steps to follow: \n",
    "\n",
    "Create a conda environment (see reference here for 1st 3 steps as follows):  \n",
    "\n",
    "1. conda create -n beyondw2v python=3    \n",
    "2. source activate beyondw2v3   \n",
    "3. conda install anaconda     \n",
    "\n",
    "Then install additional packages:    \n",
    "a ) conda install -c conda-forge keras     \n",
    "b) conda install -c conda-forge theano   \n",
    "c) pip install pydot-ng      \n",
    "d) brew install graphviz  (refer here if you need to install home-brew: https://brew.sh)     \n",
    "e)   pip install pydot     \n",
    "f) conda install -c anaconda gevent        \n",
    "g) conda install -c anaconda requests      \n"
   ]
  },
  {
   "cell_type": "markdown",
   "metadata": {},
   "source": [
    "Download the pretrained google news word vectors\n",
    "\n",
    "TODO: find better source"
   ]
  },
  {
   "cell_type": "code",
   "execution_count": null,
   "metadata": {
    "collapsed": true
   },
   "outputs": [],
   "source": [
    "!wget https://s3.amazonaws.com/mordecai-geo/GoogleNews-vectors-negative300.bin.gz"
   ]
  }
 ],
 "metadata": {
  "kernelspec": {
   "display_name": "Python 3",
   "language": "python",
   "name": "python3"
  },
  "language_info": {
   "codemirror_mode": {
    "name": "ipython",
    "version": 3
   },
   "file_extension": ".py",
   "mimetype": "text/x-python",
   "name": "python",
   "nbconvert_exporter": "python",
   "pygments_lexer": "ipython3",
   "version": "3.6.1"
  }
 },
 "nbformat": 4,
 "nbformat_minor": 2
}
